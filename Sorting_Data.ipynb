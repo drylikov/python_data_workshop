{
 "metadata": {
  "name": ""
 },
 "nbformat": 3,
 "nbformat_minor": 0,
 "worksheets": [
  {
   "cells": [
    {
     "cell_type": "code",
     "collapsed": false,
     "input": [
      "## Remember, the September Dataframe is has every station combined. Let's make a Dataframe for each station\n",
      "## First, we need to load the data\n",
      "from pandas import DataFrame\n",
      "import pandas as pd\n",
      "\n",
      "# Load From a CSV\n",
      "september_dataframe = pd.read_csv('./data/september_data.csv',names=['station_id','bikes','spaces','total_docks','timestamp']) ## read CSV assumes header"
     ],
     "language": "python",
     "metadata": {},
     "outputs": []
    },
    {
     "cell_type": "code",
     "collapsed": false,
     "input": [
      "#Let's place this in a Dictionary stucture with the Keys being the station id. \n",
      "sorted_dataframe_dict = {}\n"
     ],
     "language": "python",
     "metadata": {},
     "outputs": []
    }
   ],
   "metadata": {}
  }
 ]
}