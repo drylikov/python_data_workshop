{
 "metadata": {
  "name": ""
 },
 "nbformat": 3,
 "nbformat_minor": 0,
 "worksheets": [
  {
   "cells": [
    {
     "cell_type": "code",
     "collapsed": false,
     "input": [
      "from pandas import Series, DataFrame\n",
      "import pandas as pd\n",
      "\n",
      "## There are two fundamental Data Structures in Pandas, the series and the dataframe\n",
      "\n",
      "## The Series\n",
      "s = Series([4, 5, 'a', \"some thing\"]) #without labeled index\n",
      "s2 = Series([4,5,6,'a string'],index=['a','b','c','d']) #with labeled index\n",
      "\n",
      "## And the Dataframe\n",
      "data = {'building':['Ryerson','Ryerson','Pick', 'Harper'],\n",
      "              'room':[251,276,532,140],\n",
      "              'capacity':[153,54,15,96]}\n",
      "df = DataFrame(data)"
     ],
     "language": "python",
     "metadata": {},
     "outputs": [],
     "prompt_number": 1
    },
    {
     "cell_type": "code",
     "collapsed": false,
     "input": [
      "df"
     ],
     "language": "python",
     "metadata": {},
     "outputs": [
      {
       "html": [
        "<div style=\"max-height:1000px;max-width:1500px;overflow:auto;\">\n",
        "<table border=\"1\" class=\"dataframe\">\n",
        "  <thead>\n",
        "    <tr style=\"text-align: right;\">\n",
        "      <th></th>\n",
        "      <th>building</th>\n",
        "      <th>capacity</th>\n",
        "      <th>room</th>\n",
        "    </tr>\n",
        "  </thead>\n",
        "  <tbody>\n",
        "    <tr>\n",
        "      <th>0</th>\n",
        "      <td> Ryerson</td>\n",
        "      <td> 153</td>\n",
        "      <td> 251</td>\n",
        "    </tr>\n",
        "    <tr>\n",
        "      <th>1</th>\n",
        "      <td> Ryerson</td>\n",
        "      <td>  54</td>\n",
        "      <td> 276</td>\n",
        "    </tr>\n",
        "    <tr>\n",
        "      <th>2</th>\n",
        "      <td>    Pick</td>\n",
        "      <td>  15</td>\n",
        "      <td> 532</td>\n",
        "    </tr>\n",
        "    <tr>\n",
        "      <th>3</th>\n",
        "      <td>  Harper</td>\n",
        "      <td>  96</td>\n",
        "      <td> 140</td>\n",
        "    </tr>\n",
        "  </tbody>\n",
        "</table>\n",
        "</div>"
       ],
       "metadata": {},
       "output_type": "pyout",
       "prompt_number": 6,
       "text": [
        "  building  capacity  room\n",
        "0  Ryerson       153   251\n",
        "1  Ryerson        54   276\n",
        "2     Pick        15   532\n",
        "3   Harper        96   140"
       ]
      }
     ],
     "prompt_number": 6
    },
    {
     "cell_type": "code",
     "collapsed": false,
     "input": [
      "## You can access the data contained in both\n",
      "\n",
      "print s.index\n",
      "print s2.index ##what should this print?"
     ],
     "language": "python",
     "metadata": {},
     "outputs": [
      {
       "output_type": "stream",
       "stream": "stdout",
       "text": [
        "0             4\n",
        "1             5\n",
        "2             a\n",
        "3    some thing\n",
        "dtype: object\n",
        "break\n",
        "Int64Index([0, 1, 2, 3], dtype=int64)\n",
        "Index([u'a', u'b', u'c', u'd'], dtype=object)\n"
       ]
      }
     ],
     "prompt_number": 10
    },
    {
     "cell_type": "code",
     "collapsed": false,
     "input": [
      "\n",
      "print df\n",
      "print '\\n'\n",
      "print df['capacity']\n",
      "\n"
     ],
     "language": "python",
     "metadata": {},
     "outputs": [
      {
       "output_type": "stream",
       "stream": "stdout",
       "text": [
        "  building  capacity  room\n",
        "0  Ryerson       153   251\n",
        "1  Ryerson        54   276\n",
        "2     Pick        15   532\n",
        "3   Harper        96   140\n",
        "\n",
        "\n",
        "0    153\n",
        "1     54\n",
        "2     15\n",
        "3     96\n",
        "Name: capacity, dtype: int64\n"
       ]
      }
     ],
     "prompt_number": 12
    }
   ],
   "metadata": {}
  }
 ]
}